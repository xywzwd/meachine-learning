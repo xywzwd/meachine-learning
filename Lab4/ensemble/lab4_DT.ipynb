{
 "cells": [
  {
   "cell_type": "code",
   "execution_count": 1,
   "metadata": {},
   "outputs": [],
   "source": [
    "import pandas as pd\n",
    "train = pd.read_csv(\"E:/isuclasses/COMS573/lab4 materials/lab4-train.csv\")\n",
    "test = pd.read_csv(\"E:/isuclasses/COMS573/lab4 materials/lab4-test.csv\")\n",
    "import numpy as np\n",
    "train_labels = np.array(train['Class'])\n",
    "train= train.drop('Class', axis = 1)\n",
    "train_list = list(train.columns)\n",
    "train = np.array(train)\n",
    "test_labels = np.array(test['Class'])\n",
    "test= test.drop('Class', axis = 1)\n",
    "test = np.array(test)"
   ]
  },
  {
   "cell_type": "code",
   "execution_count": 2,
   "metadata": {},
   "outputs": [
    {
     "name": "stdout",
     "output_type": "stream",
     "text": [
      "[[195  43]\n",
      " [ 44  19]]\n",
      "0.7109634551495017\n"
     ]
    }
   ],
   "source": [
    "from sklearn import tree\n",
    "from sklearn.metrics import confusion_matrix\n",
    "clf = tree.DecisionTreeClassifier()\n",
    "clf.fit(train, train_labels)\n",
    "prediction = clf.predict(test)\n",
    "print(confusion_matrix(test_labels, prediction))\n",
    "print(clf.score(test, test_labels))"
   ]
  },
  {
   "cell_type": "code",
   "execution_count": null,
   "metadata": {},
   "outputs": [],
   "source": []
  }
 ],
 "metadata": {
  "kernelspec": {
   "display_name": "Python 3.6 (tensorflow)",
   "language": "python",
   "name": "tensorflow"
  },
  "language_info": {
   "codemirror_mode": {
    "name": "ipython",
    "version": 3
   },
   "file_extension": ".py",
   "mimetype": "text/x-python",
   "name": "python",
   "nbconvert_exporter": "python",
   "pygments_lexer": "ipython3",
   "version": "3.6.8"
  }
 },
 "nbformat": 4,
 "nbformat_minor": 2
}
