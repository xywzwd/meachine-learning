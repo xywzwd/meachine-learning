{
 "cells": [
  {
   "cell_type": "code",
   "execution_count": 1,
   "metadata": {},
   "outputs": [],
   "source": [
    "import pandas as pd\n",
    "train = pd.read_csv(\"E:/isuclasses/COMS573/lab4 materials/lab4-train.csv\")\n",
    "test = pd.read_csv(\"E:/isuclasses/COMS573/lab4 materials/lab4-test.csv\")\n",
    "import numpy as np\n",
    "train_labels = np.array(train['Class'])\n",
    "train= train.drop('Class', axis = 1)\n",
    "train_list = list(train.columns)\n",
    "train = np.array(train)\n",
    "test_labels = np.array(test['Class'])\n",
    "test= test.drop('Class', axis = 1)\n",
    "test = np.array(test)"
   ]
  },
  {
   "cell_type": "code",
   "execution_count": 16,
   "metadata": {},
   "outputs": [],
   "source": [
    "from sklearn.linear_model import LogisticRegression\n",
    "from sklearn.naive_bayes import GaussianNB\n",
    "from sklearn.ensemble import RandomForestClassifier, VotingClassifier, AdaBoostClassifier\n",
    "from sklearn import tree\n",
    "from sklearn.neighbors import KNeighborsClassifier \n",
    "from sklearn.neural_network import MLPClassifier\n",
    "from sklearn import preprocessing, metrics\n",
    "from sklearn.metrics import confusion_matrix"
   ]
  },
  {
   "cell_type": "code",
   "execution_count": 25,
   "metadata": {},
   "outputs": [
    {
     "name": "stdout",
     "output_type": "stream",
     "text": [
      "[[230   8]\n",
      " [ 45  18]]\n",
      "0.8239202657807309\n"
     ]
    }
   ],
   "source": [
    "from sklearn.preprocessing import StandardScaler \n",
    "scaler =  StandardScaler()  \n",
    "scaler.fit(train)\n",
    "train = scaler.transform(train)  \n",
    "test = scaler.transform(test)\n",
    "\n",
    "\n",
    "clf1 = LogisticRegression(solver='lbfgs', multi_class='multinomial', random_state=1)\n",
    "clf2 = GaussianNB()\n",
    "clf3 = KNeighborsClassifier(n_neighbors=20) \n",
    "clf4 = tree.DecisionTreeClassifier()\n",
    "clf5 = MLPClassifier(solver='lbfgs', alpha=1e-5, hidden_layer_sizes=(5, 2), random_state=1)\n",
    "clf6 = RandomForestClassifier(n_estimators = 10, random_state = 10)\n",
    "clf7 = AdaBoostClassifier(n_estimators = 10, random_state = 10)\n",
    "\n",
    "eclf1 = VotingClassifier(estimators=[('lr', clf1), ('gnb', clf2), ('knn', clf3), ('dt', clf4), ('nn', clf5)], voting='hard')\n",
    "eclf1.fit(train, train_labels)\n",
    "prediction = eclf1.predict(test)\n",
    "print(confusion_matrix(test_labels, prediction))\n",
    "print(eclf1.score(test, test_labels))"
   ]
  },
  {
   "cell_type": "code",
   "execution_count": 24,
   "metadata": {},
   "outputs": [
    {
     "name": "stdout",
     "output_type": "stream",
     "text": [
      "[[230   8]\n",
      " [ 42  21]]\n",
      "0.8338870431893688\n"
     ]
    }
   ],
   "source": [
    "eclf2 = VotingClassifier(estimators=[('lr', clf1), ('gnb', clf2), ('knn', clf3), ('dt', clf4), ('nn', clf5)], \n",
    "                         voting='soft', weights=[4, 2, 4, 1, 4], flatten_transform=True)\n",
    "eclf2.fit(train, train_labels)\n",
    "prediction = eclf2.predict(test)\n",
    "print(confusion_matrix(test_labels, prediction))\n",
    "print(eclf2.score(test, test_labels))"
   ]
  },
  {
   "cell_type": "code",
   "execution_count": 28,
   "metadata": {},
   "outputs": [
    {
     "name": "stdout",
     "output_type": "stream",
     "text": [
      "[[230   8]\n",
      " [ 48  15]]\n",
      "0.813953488372093\n"
     ]
    }
   ],
   "source": [
    "eclf3 = VotingClassifier(estimators=[('lr', clf1), ('gnb', clf2), ('knn', clf3), ('dt', clf4), ('nn', clf5), \n",
    "                                     ('rf', clf6), ('ab', clf7)], voting='hard')\n",
    "eclf3.fit(train, train_labels)\n",
    "prediction = eclf3.predict(test)\n",
    "print(confusion_matrix(test_labels, prediction))\n",
    "print(eclf3.score(test, test_labels))"
   ]
  },
  {
   "cell_type": "code",
   "execution_count": 45,
   "metadata": {},
   "outputs": [
    {
     "name": "stdout",
     "output_type": "stream",
     "text": [
      "[[229   9]\n",
      " [ 39  24]]\n",
      "0.840531561461794\n"
     ]
    }
   ],
   "source": [
    "eclf4 = VotingClassifier(estimators=[('lr', clf1), ('gnb', clf2), ('knn', clf3), ('dt', clf4), ('nn', clf5), \n",
    "                                     ('rf', clf6), ('ab', clf7)], voting='soft', weights=[8, 1, 16, 1, 12, 1, 4], \n",
    "                         flatten_transform=True)\n",
    "eclf4.fit(train, train_labels)\n",
    "prediction = eclf4.predict(test)\n",
    "print(confusion_matrix(test_labels, prediction))\n",
    "print(eclf4.score(test, test_labels))"
   ]
  },
  {
   "cell_type": "code",
   "execution_count": null,
   "metadata": {},
   "outputs": [],
   "source": []
  }
 ],
 "metadata": {
  "kernelspec": {
   "display_name": "Python 3.6 (tensorflow)",
   "language": "python",
   "name": "tensorflow"
  },
  "language_info": {
   "codemirror_mode": {
    "name": "ipython",
    "version": 3
   },
   "file_extension": ".py",
   "mimetype": "text/x-python",
   "name": "python",
   "nbconvert_exporter": "python",
   "pygments_lexer": "ipython3",
   "version": "3.6.8"
  }
 },
 "nbformat": 4,
 "nbformat_minor": 2
}
